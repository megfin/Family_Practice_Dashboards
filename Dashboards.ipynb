{
 "cells": [
  {
   "cell_type": "code",
   "execution_count": 14,
   "metadata": {},
   "outputs": [],
   "source": [
    "import numpy as np\n",
    "import pandas as pd\n",
    "import plotly.graph_objects as go\n",
    "import dash\n",
    "import plotly.express as px\n",
    "import dash_core_components as dcc\n",
    "import dash_html_components as html\n",
    "from dash.dependencies import Input, Output\n",
    "import flask"
   ]
  },
  {
   "cell_type": "code",
   "execution_count": 2,
   "metadata": {},
   "outputs": [],
   "source": [
    "acct_rcv = pd.read_csv(r'C:\\Users\\Megan Finley\\Documents\\Lauren_Project\\Data\\accounts_receivable.csv',header=0)\n",
    "claims = pd.read_csv(r'C:\\Users\\Megan Finley\\Documents\\Lauren_Project\\Data\\live_claims_feed_to7_30_2020.csv',header=0)"
   ]
  },
  {
   "cell_type": "code",
   "execution_count": 3,
   "metadata": {},
   "outputs": [],
   "source": [
    "claims['bool'] = [1]*len(claims)"
   ]
  },
  {
   "cell_type": "code",
   "execution_count": 4,
   "metadata": {},
   "outputs": [],
   "source": [
    "patients_ytd = [len(claims)]"
   ]
  },
  {
   "cell_type": "code",
   "execution_count": 5,
   "metadata": {},
   "outputs": [
    {
     "data": {
      "text/plain": [
       "[1490]"
      ]
     },
     "execution_count": 5,
     "metadata": {},
     "output_type": "execute_result"
    }
   ],
   "source": [
    "patients_ytd"
   ]
  },
  {
   "cell_type": "code",
   "execution_count": 6,
   "metadata": {},
   "outputs": [
    {
     "name": "stderr",
     "output_type": "stream",
     "text": [
      "C:\\Users\\Megan Finley\\Anaconda3\\lib\\site-packages\\ipykernel_launcher.py:9: SettingWithCopyWarning:\n",
      "\n",
      "\n",
      "A value is trying to be set on a copy of a slice from a DataFrame\n",
      "\n",
      "See the caveats in the documentation: http://pandas.pydata.org/pandas-docs/stable/user_guide/indexing.html#returning-a-view-versus-a-copy\n",
      "\n",
      "C:\\Users\\Megan Finley\\Anaconda3\\lib\\site-packages\\ipykernel_launcher.py:7: SettingWithCopyWarning:\n",
      "\n",
      "\n",
      "A value is trying to be set on a copy of a slice from a DataFrame\n",
      "\n",
      "See the caveats in the documentation: http://pandas.pydata.org/pandas-docs/stable/user_guide/indexing.html#returning-a-view-versus-a-copy\n",
      "\n",
      "C:\\Users\\Megan Finley\\Anaconda3\\lib\\site-packages\\ipykernel_launcher.py:5: SettingWithCopyWarning:\n",
      "\n",
      "\n",
      "A value is trying to be set on a copy of a slice from a DataFrame\n",
      "\n",
      "See the caveats in the documentation: http://pandas.pydata.org/pandas-docs/stable/user_guide/indexing.html#returning-a-view-versus-a-copy\n",
      "\n"
     ]
    }
   ],
   "source": [
    "claims['month'] = [int(claims[\"Date of Service\"][j][0]) for j in range(len(claims))]\n",
    "claims['quarter'] = [0]*len(claims)\n",
    "for i in range(len(claims)):\n",
    "    if claims['month'][i] <= 3:\n",
    "        claims['quarter'][i] = 1\n",
    "    elif claims['month'][i] > 3 and claims['month'][i] <= 6:\n",
    "        claims['quarter'][i] = 2\n",
    "    else:\n",
    "        claims['quarter'][i] = 3\n"
   ]
  },
  {
   "cell_type": "code",
   "execution_count": 7,
   "metadata": {},
   "outputs": [],
   "source": [
    "months = [i for i in range(1,8)]\n",
    "patients_monthly = []    \n",
    "month_data = [claims[claims['month']== j] for j in range(1,8)]\n",
    "quarter_data = [claims[claims['quarter']==j] for j in range(1,4)]\n",
    "quarters = [i for i in range(1,4)]\n",
    "patients_quarterly = []\n",
    "for i in range(len(months)):\n",
    "    patients_monthly.append(len(month_data[i]))\n",
    "    \n",
    "for i in range(len(quarters)):\n",
    "    patients_quarterly.append(len(quarter_data[i]))\n",
    "    "
   ]
  },
  {
   "cell_type": "code",
   "execution_count": 8,
   "metadata": {},
   "outputs": [
    {
     "data": {
      "text/plain": [
       "[170, 191, 276, 243, 201, 130, 279]"
      ]
     },
     "execution_count": 8,
     "metadata": {},
     "output_type": "execute_result"
    }
   ],
   "source": [
    "patients_monthly"
   ]
  },
  {
   "cell_type": "code",
   "execution_count": 9,
   "metadata": {},
   "outputs": [
    {
     "data": {
      "text/plain": [
       "[637, 574, 279]"
      ]
     },
     "execution_count": 9,
     "metadata": {},
     "output_type": "execute_result"
    }
   ],
   "source": [
    "patients_quarterly"
   ]
  },
  {
   "cell_type": "code",
   "execution_count": 10,
   "metadata": {},
   "outputs": [],
   "source": [
    "patient_data = {'Month': patients_monthly,'Quarter': patients_quarterly, 'Year': patients_ytd}"
   ]
  },
  {
   "cell_type": "code",
   "execution_count": 11,
   "metadata": {},
   "outputs": [],
   "source": [
    "drop_ops = ['Monthly','Quarterly','Yearly']"
   ]
  },
  {
   "cell_type": "code",
   "execution_count": 15,
   "metadata": {},
   "outputs": [
    {
     "name": "stdout",
     "output_type": "stream",
     "text": [
      "Running on http://127.0.0.1:8050/\n",
      "Running on http://127.0.0.1:8050/\n",
      "Debugger PIN: 585-206-725\n",
      "Debugger PIN: 585-206-725\n",
      " * Serving Flask app \"__main__\" (lazy loading)\n",
      " * Environment: production\n",
      "   WARNING: This is a development server. Do not use it in a production deployment.\n",
      "   Use a production WSGI server instead.\n",
      " * Debug mode: on\n"
     ]
    }
   ],
   "source": [
    "\n",
    "external_stylesheets = ['https://codepen.io/chriddyp/pen/bWLwgP.css']\n",
    "\n",
    "server = flask.Flask(__name__)\n",
    "app = dash.Dash(__name__, server=server)\n",
    "\n",
    "fig = go.Figure([go.Bar(x=months, y=patients_monthly)])\n",
    "\n",
    "app.layout = html.Div([\n",
    "    dcc.Graph(id='dropdown_graph'),\n",
    "    dcc.Dropdown(\n",
    "        id='x_axis',\n",
    "        options=[\n",
    "            {'label': 'Monthly', 'value': 'Month'},\n",
    "            {'label': 'Quarterly', 'value': 'Quarter'},\n",
    "            {'label': 'Year to Date', 'value': 'Year'}\n",
    "        ],\n",
    "        value= 'Month',\n",
    "        style = dict(width = '80%',\n",
    "                    display = 'inline-block',\n",
    "                    verticalAlign = \"middle\")\n",
    "    )\n",
    "])\n",
    "\n",
    "\n",
    "@app.callback(\n",
    "    Output('dropdown_graph', 'figure'),\n",
    "    [Input('x_axis', 'value')])\n",
    "def update_figure(selected_option):\n",
    "    data = patient_data[selected_option]\n",
    "    if selected_option == 'Month':\n",
    "        x = ['January', 'February', 'March','April', 'May', 'June', 'July']\n",
    "    elif selected_option == 'Quarter':\n",
    "        x = ['Q1', 'Q2','Q3']\n",
    "    elif selected_option == 'Year':\n",
    "        x = ['2020']\n",
    "    \n",
    "    fig = go.Figure([go.Bar(x=x, y=data)])\n",
    "    \n",
    "    fig.update_layout(title = 'Number of Patients Seen by '+selected_option, autosize = False, width = 1000, \n",
    "                      height = 750)\n",
    "    \n",
    "    fig.update_xaxes(title=selected_option) \n",
    "\n",
    "    fig.update_yaxes(title='Number of Patients') \n",
    "    \n",
    "\n",
    "    return fig\n",
    "\n",
    "\n",
    "if __name__ == '__main__':\n",
    "    app.run_server(debug=True,use_reloader=False)"
   ]
  },
  {
   "cell_type": "code",
   "execution_count": 13,
   "metadata": {},
   "outputs": [],
   "source": []
  }
 ],
 "metadata": {
  "kernelspec": {
   "display_name": "Python 3",
   "language": "python",
   "name": "python3"
  },
  "language_info": {
   "codemirror_mode": {
    "name": "ipython",
    "version": 3
   },
   "file_extension": ".py",
   "mimetype": "text/x-python",
   "name": "python",
   "nbconvert_exporter": "python",
   "pygments_lexer": "ipython3",
   "version": "3.7.4"
  }
 },
 "nbformat": 4,
 "nbformat_minor": 2
}
